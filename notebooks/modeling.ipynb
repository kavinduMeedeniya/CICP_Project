{
 "cells": [
  {
   "cell_type": "code",
   "execution_count": 1,
   "id": "9e3cd66c",
   "metadata": {},
   "outputs": [
    {
     "name": "stdout",
     "output_type": "stream",
     "text": [
      "Model trained on 31 features\n",
      "Label distribution: OUTCOME\n",
      "1.0    6867\n",
      "0.0    3133\n",
      "Name: count, dtype: int64\n"
     ]
    }
   ],
   "source": [
    "import pandas as pd\n",
    "import joblib\n",
    "from sklearn.linear_model import LogisticRegression\n",
    "\n",
    "# Load data\n",
    "df = pd.read_csv('../data/raw/Car_Insurance_Claim.csv')\n",
    "\n",
    "# Load preprocessor\n",
    "preprocessor = joblib.load('../models/preprocessor.pkl')\n",
    "\n",
    "# Define feature columns\n",
    "categorical_cols = ['AGE', 'GENDER', 'RACE', 'DRIVING_EXPERIENCE', 'EDUCATION', 'INCOME', 'VEHICLE_YEAR', 'VEHICLE_TYPE']\n",
    "numerical_cols = ['CREDIT_SCORE', 'VEHICLE_OWNERSHIP', 'MARRIED', 'CHILDREN', 'ANNUAL_MILEAGE', 'SPEEDING_VIOLATIONS', 'DUIS', 'PAST_ACCIDENTS']\n",
    "X = df[categorical_cols + numerical_cols]\n",
    "\n",
    "# Invert labels to match SOW: 1 = low-risk (approved), 0 = high-risk (denied)\n",
    "y = 1 - df['OUTCOME']  # Invert OUTCOME (if 1 was high-risk, make it 0)\n",
    "\n",
    "# Transform features\n",
    "X_transformed = preprocessor.transform(X)\n",
    "\n",
    "# Train model\n",
    "model = LogisticRegression()\n",
    "model.fit(X_transformed, y)\n",
    "\n",
    "# Save model\n",
    "joblib.dump(model, '../models/logistic_regression_model.pkl')\n",
    "\n",
    "# Print feature count and label distribution\n",
    "print(f\"Model trained on {X_transformed.shape[1]} features\")\n",
    "print(\"Label distribution:\", pd.Series(y).value_counts())"
   ]
  }
 ],
 "metadata": {
  "kernelspec": {
   "display_name": "venv (3.12.6)",
   "language": "python",
   "name": "python3"
  },
  "language_info": {
   "codemirror_mode": {
    "name": "ipython",
    "version": 3
   },
   "file_extension": ".py",
   "mimetype": "text/x-python",
   "name": "python",
   "nbconvert_exporter": "python",
   "pygments_lexer": "ipython3",
   "version": "3.12.6"
  }
 },
 "nbformat": 4,
 "nbformat_minor": 5
}
